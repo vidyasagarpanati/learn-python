{
 "cells": [
  {
   "cell_type": "markdown",
   "metadata": {},
   "source": [
    "# Learn Python"
   ]
  },
  {
   "cell_type": "markdown",
   "metadata": {},
   "source": [
    "### Functions"
   ]
  },
  {
   "cell_type": "markdown",
   "metadata": {},
   "source": [
    "##### More on Functions: https://docs.python.org/3/tutorial/index.html"
   ]
  },
  {
   "cell_type": "markdown",
   "metadata": {},
   "source": [
    "Functions are a group or block of executable statements."
   ]
  },
  {
   "cell_type": "code",
   "execution_count": 2,
   "metadata": {},
   "outputs": [],
   "source": [
    "# Defining a Function\n",
    "def function_name(parameter, list):\n",
    "    \"\"\" Documentation Content\"\"\"\n",
    "    #Optional Return statement\n",
    "    return statement"
   ]
  },
  {
   "cell_type": "code",
   "execution_count": 5,
   "metadata": {},
   "outputs": [
    {
     "name": "stdout",
     "output_type": "stream",
     "text": [
      "Hello there! vidya. How are you?\n"
     ]
    }
   ],
   "source": [
    "# Example\n",
    "def greetings(name):\n",
    "    \"\"\"Greets a person with a hello.\"\"\"\n",
    "    return \"Hello there! \"+name+\". How are you?\"\n",
    "\n",
    "print(greetings('vidya'))"
   ]
  },
  {
   "cell_type": "code",
   "execution_count": 6,
   "metadata": {},
   "outputs": [
    {
     "data": {
      "text/plain": [
       "'Greets a person with a hello.'"
      ]
     },
     "execution_count": 6,
     "metadata": {},
     "output_type": "execute_result"
    }
   ],
   "source": [
    "# To see the documentation for the function\n",
    "greetings.__doc__"
   ]
  },
  {
   "cell_type": "markdown",
   "metadata": {},
   "source": [
    "### Scope and lifetime of variables"
   ]
  },
  {
   "cell_type": "code",
   "execution_count": 11,
   "metadata": {},
   "outputs": [
    {
     "name": "stdout",
     "output_type": "stream",
     "text": [
      "inside:  10\n",
      "outside:  20\n"
     ]
    }
   ],
   "source": [
    "def functionX():\n",
    "    x = 10\n",
    "    print(\"inside: \",x)\n",
    "    \n",
    "x=20\n",
    "functionX()\n",
    "print(\"outside: \",x)"
   ]
  },
  {
   "cell_type": "code",
   "execution_count": 12,
   "metadata": {},
   "outputs": [
    {
     "name": "stdout",
     "output_type": "stream",
     "text": [
      "inside:  10\n",
      "outside:  10\n"
     ]
    }
   ],
   "source": [
    "def functionX():\n",
    "    global x\n",
    "    x = 10\n",
    "    print(\"inside: \",x)\n",
    "    \n",
    "x=20\n",
    "functionX()\n",
    "print(\"outside: \",x)"
   ]
  },
  {
   "cell_type": "code",
   "execution_count": null,
   "metadata": {},
   "outputs": [],
   "source": []
  }
 ],
 "metadata": {
  "kernelspec": {
   "display_name": "Python 3",
   "language": "python",
   "name": "python3"
  },
  "language_info": {
   "codemirror_mode": {
    "name": "ipython",
    "version": 3
   },
   "file_extension": ".py",
   "mimetype": "text/x-python",
   "name": "python",
   "nbconvert_exporter": "python",
   "pygments_lexer": "ipython3",
   "version": "3.7.3"
  }
 },
 "nbformat": 4,
 "nbformat_minor": 2
}
